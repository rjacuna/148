{
 "cells": [
  {
   "cell_type": "code",
   "execution_count": 2,
   "metadata": {},
   "outputs": [],
   "source": [
    "from sympy import*\n",
    "init_printing(use_unicode=True)"
   ]
  },
  {
   "cell_type": "code",
   "execution_count": 11,
   "metadata": {},
   "outputs": [
    {
     "data": {
      "image/png": "[encoded data removed]",
      "text/latex": [
       "$$\\left[\\begin{matrix}- \\frac{\\sqrt{5}}{2} + 0.5 & 1\\\\1 & - \\frac{\\sqrt{5}}{2} - 0.5\\end{matrix}\\right]$$"
      ],
      "text/plain": [
       "⎡  √5                  ⎤\n",
       "⎢- ── + 0.5      1     ⎥\n",
       "⎢  2                   ⎥\n",
       "⎢                      ⎥\n",
       "⎢              √5      ⎥\n",
       "⎢    1       - ── - 0.5⎥\n",
       "⎣              2       ⎦"
      ]
     },
     "execution_count": 11,
     "metadata": {},
     "output_type": "execute_result"
    }
   ],
   "source": [
    "Matrix([[1/2-sqrt(5)/2, 1],[1,-1/2-sqrt(5)/2]])"
   ]
  },
  {
   "cell_type": "code",
   "execution_count": 12,
   "metadata": {},
   "outputs": [
    {
     "data": {
      "image/png": "[encoded data removed]",
      "text/latex": [
       "$$-1$$"
      ],
      "text/plain": [
       "-1"
      ]
     },
     "execution_count": 12,
     "metadata": {},
     "output_type": "execute_result"
    }
   ],
   "source": [
    "Matrix([[0, 1],[1,-1]]).trace()"
   ]
  },
  {
   "cell_type": "code",
   "execution_count": 14,
   "metadata": {},
   "outputs": [
    {
     "data": {
      "image/png": "[encoded data removed]",
      "text/latex": [
       "$$\\left ( \\left[\\begin{matrix}1 & \\frac{1}{- \\frac{\\sqrt{5}}{2} + 0.5}\\\\0 & 0\\end{matrix}\\right], \\quad \\left ( 0\\right )\\right )$$"
      ],
      "text/plain": [
       "⎛⎡       1     ⎤      ⎞\n",
       "⎜⎢1  ──────────⎥      ⎟\n",
       "⎜⎢     √5      ⎥      ⎟\n",
       "⎜⎢   - ── + 0.5⎥, (0,)⎟\n",
       "⎜⎢     2       ⎥      ⎟\n",
       "⎜⎢             ⎥      ⎟\n",
       "⎝⎣0      0     ⎦      ⎠"
      ]
     },
     "execution_count": 14,
     "metadata": {},
     "output_type": "execute_result"
    }
   ],
   "source": [
    "Matrix([[1/2-sqrt(5)/2, 1],[1,-1/2-sqrt(5)/2]]).rref()"
   ]
  },
  {
   "cell_type": "code",
   "execution_count": 17,
   "metadata": {},
   "outputs": [
    {
     "data": {
      "image/png": "[encoded data removed]",
      "text/latex": [
       "$$\\left ( \\left[\\begin{matrix}1 & \\frac{1}{0.5 + \\frac{\\sqrt{5}}{2}}\\\\0 & 0\\end{matrix}\\right], \\quad \\left ( 0\\right )\\right )$$"
      ],
      "text/plain": [
       "⎛⎡      1    ⎤      ⎞\n",
       "⎜⎢1  ────────⎥      ⎟\n",
       "⎜⎢         √5⎥      ⎟\n",
       "⎜⎢   0.5 + ──⎥, (0,)⎟\n",
       "⎜⎢         2 ⎥      ⎟\n",
       "⎜⎢           ⎥      ⎟\n",
       "⎝⎣0     0    ⎦      ⎠"
      ]
     },
     "execution_count": 17,
     "metadata": {},
     "output_type": "execute_result"
    }
   ],
   "source": [
    "Matrix([[1/2+sqrt(5)/2, 1],[1,-1/2+sqrt(5)/2]]).rref()"
   ]
  }
 ],
 "metadata": {
  "kernelspec": {
   "display_name": "Python 3",
   "language": "python",
   "name": "python3"
  },
  "language_info": {
   "codemirror_mode": {
    "name": "ipython",
    "version": 3
   },
   "file_extension": ".py",
   "mimetype": "text/x-python",
   "name": "python",
   "nbconvert_exporter": "python",
   "pygments_lexer": "ipython3",
   "version": "3.6.2"
  }
 },
 "nbformat": 4,
 "nbformat_minor": 2
}
